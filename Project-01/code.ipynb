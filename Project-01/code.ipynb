{
 "cells": [
  {
   "cell_type": "code",
   "execution_count": null,
   "id": "071074aa",
   "metadata": {},
   "outputs": [],
   "source": [
    "# importando as bibliotecas\n",
    "\n",
    "import datetime #manipulação de datas\n",
    "import numpy as np #manipulação de matriz\n",
    "import pandas as pd #manipulação de tabela\n",
    "import seaborn as sns #visualização de dados estatísticos\n",
    "import matplotlib.pyplot as plt #visualização de dados genéricos\n",
    "from matplotlib import style\n",
    "import warnings\n",
    "warnings.filterwarnings(\"ignore\") #filtrando avisos"
   ]
  },
  {
   "cell_type": "code",
   "execution_count": null,
   "id": "d8ec8f6c",
   "metadata": {},
   "outputs": [],
   "source": [
    "# loading the dataset\n",
    "df_data = pd.read_csv('dataset1.csv')"
   ]
  },
  {
   "cell_type": "code",
   "execution_count": null,
   "id": "1c15643b",
   "metadata": {},
   "outputs": [],
   "source": [
    "# shape of the dataset\n",
    "df_data.shape"
   ]
  },
  {
   "cell_type": "code",
   "execution_count": null,
   "id": "a6821bd9",
   "metadata": {},
   "outputs": [],
   "source": [
    "# amostrating the first rows of the dataset\n",
    "df_data.head()"
   ]
  },
  {
   "cell_type": "code",
   "execution_count": null,
   "id": "5443b140",
   "metadata": {},
   "outputs": [],
   "source": [
    "# information about the dataset\n",
    "df_data.info()"
   ]
  },
  {
   "cell_type": "code",
   "execution_count": null,
   "id": "01750f53",
   "metadata": {},
   "outputs": [],
   "source": [
    "# function to format each axis of the graph (ax) with option to right border\n",
    "\n",
    "def format_spines(ax, right_border = True):\n",
    "\n",
    "    #define the color of the bottom border\n",
    "    ax.spines['bottom'].set_color('#000000')\n",
    "\n",
    "    #define the color of the left border\n",
    "    ax.spines['left'].set_color('#000000')\n",
    "\n",
    "    #define the top border to became invisible\n",
    "    ax.spines['top'].set_visible(False)\n",
    "\n",
    "    #check if the right border should be visible\n",
    "    if right_border:\n",
    "        # if yes, define the color of the right border to be white\n",
    "        ax.spines['right'].set_color('#ffffff')\n",
    "\n",
    "        # if not, also define the right border to be white\n",
    "    else:\n",
    "        ax.spines['right'].set_color('#ffffff')\n",
    "    \n",
    "    #define the background color as white\n",
    "    ax.patch.set_facecolor('#ffffff')"
   ]
  },
  {
   "cell_type": "code",
   "execution_count": null,
   "id": "f970b620",
   "metadata": {},
   "outputs": [],
   "source": [
    "#define a function to create a count graph (count plot)\n",
    "def count_plot(feature, df, colors = \"Greens_r'\", hue = False, ax = None, title = ''):\n",
    "\n",
    "    #initialize an variable with the total entries of the dataframe\n",
    "    ncount = len(df)\n",
    "\n",
    "    #create an count graph with or without an grouping variable (hue)\n",
    "    if hue != False:\n",
    "        ax = sns.countplot(x=feature, data=df, hue=hue, palette=colors, ax=ax)\n",
    "    else:\n",
    "        ax = sns.countplot(x=feature, data=df, palette=colors, ax=ax)\n",
    "\n",
    "    #call the function to format the graph borders\n",
    "    format_spines(ax)\n",
    "\n",
    "    #calculate and print on the graph the percentage of each bar\n",
    "    for p in ax.patches:\n",
    "        \n",
    "        #retrieve the x coordinate of the bar rectangle\n",
    "        x = p.get_bbox().get_points()[:,0]\n",
    "\n",
    "        #retrieve the y coordinate of the top bar rectangle\n",
    "        y = p.get_bbox().get_points()[1,1]\n",
    "\n",
    "        #note the percentage above the bar\n",
    "        ax.annotate('{:.1f}%'.format(100 * y / ncount), (x.mean(), y), ha='center', va='bottom')\n",
    "\n",
    "    #set the title of the graph based on the presence or not of the grouping variable (hue)\n",
    "    if not hue:\n",
    "\n",
    "        #without grouping variable\n",
    "        ax.set_title(df[feature].describe().name + 'Análise', size = 13, pad = 15)\n",
    "    else:\n",
    "        #with grouping variable\n",
    "        ax.set_title(df[feature].describe().name + 'Analisado por ' + hue, size = 13, pad = 15)\n",
    "\n",
    "    #if a personalized title is defined,it will be defined here\n",
    "    if title != '':\n",
    "        ax.set_title(title)\n",
    "\n",
    "    #adjust the layout of the graph to avoid graph elements overlapping\n",
    "    plt.tight_layout()\n",
    "    "
   ]
  },
  {
   "cell_type": "code",
   "execution_count": null,
   "id": "8de81a32",
   "metadata": {},
   "outputs": [],
   "source": [
    "#define a function to create a bar graph (bar plot)\n",
    "def bar_plot(x, y, df, colors = \"Greens_r'\", hue = False, ax = None,value = False, title = ''):\n",
    "\n",
    "    #try to calculate the variable total y, if fails, calculate the x varible total\n",
    "    try:\n",
    "\n",
    "        #calculate the total value of the column y\n",
    "        ncount = sum(df[y])\n",
    "\n",
    "    except:\n",
    "\n",
    "        #calculate the total value of the column x in case of error with y\n",
    "        ncount = sum(df[x])\n",
    "    \n",
    "    # create an bar graph with or without an grouping variable (hue)\n",
    "\n",
    "    if hue != False:\n",
    "\n",
    "        # With grouping variable\n",
    "        ax = sns.barplot(x = x , y = y, data = df, palette=colors, hue = hue, ax = ax, ci = None)\n",
    "\n",
    "    else:\n",
    "        \n",
    "        \n",
    "\n"
   ]
  }
 ],
 "metadata": {
  "kernelspec": {
   "display_name": "Python 3",
   "language": "python",
   "name": "python3"
  },
  "language_info": {
   "codemirror_mode": {
    "name": "ipython",
    "version": 3
   },
   "file_extension": ".py",
   "mimetype": "text/x-python",
   "name": "python",
   "nbconvert_exporter": "python",
   "pygments_lexer": "ipython3",
   "version": "3.12.4"
  }
 },
 "nbformat": 4,
 "nbformat_minor": 5
}
